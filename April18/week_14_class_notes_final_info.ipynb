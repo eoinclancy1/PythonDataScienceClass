{
 "cells": [
  {
   "cell_type": "markdown",
   "metadata": {},
   "source": [
    "### Info on Final"
   ]
  },
  {
   "cell_type": "markdown",
   "metadata": {},
   "source": [
    "* Groups of 2.  Pick your groups by next class (May 2)\n",
    "* I will let you work together in Groups of 4 (2 groups of 2) under the following parameters:\n",
    "    *  Each group of 2 has a different dataset\n",
    "    *  Each group of 2 submits their own analysis\n",
    "    *  Each group of 2 only works with one other group of 2 (effectively a group of 4) and not outside that group\n",
    "    *  It is ok if each group of 2 within the group of 4 share the same approach to the analysis. \n",
    "* Choose a dataset and send to me for approval by April 25\n"
   ]
  },
  {
   "cell_type": "markdown",
   "metadata": {},
   "source": [
    "#### Dataset criteria\n",
    "\n",
    "*  Needs to be data that you are allowed to use/share (Creative Commons, GPL, Open Database licenses)\n",
    "*  Example sources:  Kaggle.com, Data.world, Data.gov, data.worldbank.org\n",
    "*  Should have at least 5 variables to analyze\n",
    "*  Should include at least 1 variable (target variable) that can be predicted from other variables in the dataset\n",
    "*  Should have at least 500 records"
   ]
  },
  {
   "cell_type": "markdown",
   "metadata": {},
   "source": [
    "#### Overview of assignment (more detailed rubric will be provided on May 2)\n",
    "\n",
    "*  Write Python code to analyze dataset and present findings\n",
    "*  Suggested to use Jupyter Notebooks but not required\n",
    "*  Should be a mix of Python code and text describing analysis of dataset\n",
    "*  All code should work and be bug free\n",
    "*  If dataset is messy, you will be expected to clean it for analysis\n",
    "*  Analysis should include visual representations created in Python (you can use any Python library you want)\n",
    "*  Perform a simple predictive analysis using Python to predict your target variable\n",
    "    *  Include details on accuracy of model results\n",
    "    *  Include description of analysis"
   ]
  },
  {
   "cell_type": "code",
   "execution_count": null,
   "metadata": {
    "collapsed": true
   },
   "outputs": [],
   "source": []
  }
 ],
 "metadata": {
  "kernelspec": {
   "display_name": "Python 3",
   "language": "python",
   "name": "python3"
  },
  "language_info": {
   "codemirror_mode": {
    "name": "ipython",
    "version": 3
   },
   "file_extension": ".py",
   "mimetype": "text/x-python",
   "name": "python",
   "nbconvert_exporter": "python",
   "pygments_lexer": "ipython3",
   "version": "3.6.2"
  }
 },
 "nbformat": 4,
 "nbformat_minor": 2
}
