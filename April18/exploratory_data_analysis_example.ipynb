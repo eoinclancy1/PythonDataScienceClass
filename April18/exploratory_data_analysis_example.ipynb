{
 "cells": [
  {
   "cell_type": "markdown",
   "metadata": {},
   "source": [
    "# Exploratory Data Analysis"
   ]
  },
  {
   "cell_type": "markdown",
   "metadata": {},
   "source": [
    "# Introduction\n",
    "\n",
    "In this document, we survey the data from NLSY '79. We also give an example of exploratory data analysis.\n",
    "\n",
    "Many factors effect a person's income over a period of years. Of course, someone's chosen profession is the principle factor. Related to this factor is level of education, since many high-paying professions require a college degree or an additional professional degree. Other factors effecting income may be due to social biases concerning gender or race. We will explore the data and formulate hypotheses concerning the effect on income of some combination of education and physical characteristics for respondents to NLSY '79. "
   ]
  },
  {
   "cell_type": "markdown",
   "metadata": {},
   "source": [
    "# Description of the data\n",
    "\n",
    "The NLSY79 is a nationally representative sample of 12,686 young men and women who were 14-22 years old when they were first surveyed in 1979. These individuals were interviewed annually through 1994 and are currently interviewed on a biennial basis. Since their first interview, many of the respondents have made transitions from school to work, and from their parents' homes to being parents and homeowners. These data provide researchers an opportunity to study a large sample that represents American men and women born in the 1950s and 1960s, and living in the United States in 1979.\n",
    "\n",
    "We have downloaded and tidied the following datasets containing additional data. \n",
    "\n",
    "More info on the survey can be found here:\n",
    "https://www.bls.gov/nls/y79summary.htm"
   ]
  },
  {
   "cell_type": "code",
   "execution_count": 1,
   "metadata": {
    "collapsed": true
   },
   "outputs": [],
   "source": [
    "import numpy as np\n",
    "import pandas as pd\n",
    "import matplotlib as mpl\n",
    "import matplotlib.pyplot as plt\n",
    "%matplotlib inline\n",
    "plt.style.use('fivethirtyeight')"
   ]
  },
  {
   "cell_type": "markdown",
   "metadata": {},
   "source": [
    "## Income\n",
    "\n",
    "Load and examine the income data as follows.\n"
   ]
  },
  {
   "cell_type": "code",
   "execution_count": 4,
   "metadata": {
    "collapsed": true
   },
   "outputs": [],
   "source": [
    "income_data = pd.read_csv('./data/income_data_nlsy79.csv',usecols=['CASEID','income','year'])"
   ]
  },
  {
   "cell_type": "code",
   "execution_count": 6,
   "metadata": {},
   "outputs": [
    {
     "data": {
      "text/html": [
       "<div>\n",
       "<style>\n",
       "    .dataframe thead tr:only-child th {\n",
       "        text-align: right;\n",
       "    }\n",
       "\n",
       "    .dataframe thead th {\n",
       "        text-align: left;\n",
       "    }\n",
       "\n",
       "    .dataframe tbody tr th {\n",
       "        vertical-align: top;\n",
       "    }\n",
       "</style>\n",
       "<table border=\"1\" class=\"dataframe\">\n",
       "  <thead>\n",
       "    <tr style=\"text-align: right;\">\n",
       "      <th></th>\n",
       "      <th>CASEID</th>\n",
       "      <th>income</th>\n",
       "      <th>year</th>\n",
       "    </tr>\n",
       "  </thead>\n",
       "  <tbody>\n",
       "    <tr>\n",
       "      <th>0</th>\n",
       "      <td>1</td>\n",
       "      <td>NaN</td>\n",
       "      <td>1982</td>\n",
       "    </tr>\n",
       "    <tr>\n",
       "      <th>1</th>\n",
       "      <td>2</td>\n",
       "      <td>10000.0</td>\n",
       "      <td>1982</td>\n",
       "    </tr>\n",
       "    <tr>\n",
       "      <th>2</th>\n",
       "      <td>3</td>\n",
       "      <td>7000.0</td>\n",
       "      <td>1982</td>\n",
       "    </tr>\n",
       "    <tr>\n",
       "      <th>3</th>\n",
       "      <td>4</td>\n",
       "      <td>1086.0</td>\n",
       "      <td>1982</td>\n",
       "    </tr>\n",
       "    <tr>\n",
       "      <th>4</th>\n",
       "      <td>5</td>\n",
       "      <td>2300.0</td>\n",
       "      <td>1982</td>\n",
       "    </tr>\n",
       "  </tbody>\n",
       "</table>\n",
       "</div>"
      ],
      "text/plain": [
       "   CASEID   income  year\n",
       "0       1      NaN  1982\n",
       "1       2  10000.0  1982\n",
       "2       3   7000.0  1982\n",
       "3       4   1086.0  1982\n",
       "4       5   2300.0  1982"
      ]
     },
     "execution_count": 6,
     "metadata": {},
     "output_type": "execute_result"
    }
   ],
   "source": [
    "income_data.head()"
   ]
  },
  {
   "cell_type": "code",
   "execution_count": 7,
   "metadata": {},
   "outputs": [
    {
     "data": {
      "text/plain": [
       "12686"
      ]
     },
     "execution_count": 7,
     "metadata": {},
     "output_type": "execute_result"
    }
   ],
   "source": [
    "#The integer `CASEID` codes the individual respondents. The number of respondents is found as follows.\n",
    "\n",
    "len(income_data['CASEID'].unique())\n"
   ]
  },
  {
   "cell_type": "code",
   "execution_count": 17,
   "metadata": {},
   "outputs": [
    {
     "data": {
      "text/plain": [
       "array([1982, 1983, 1984, 1985, 1986, 1987, 1988, 1989, 1990, 1991, 1992,\n",
       "       1993, 1994, 1996, 1998, 2000, 2002, 2004, 2006, 2008, 2010, 2012,\n",
       "       2014], dtype=int64)"
      ]
     },
     "execution_count": 17,
     "metadata": {},
     "output_type": "execute_result"
    }
   ],
   "source": [
    "#The integer `year` variable refers to the year the data was collected. The years for which we have data are revealed by:\n",
    "\n",
    "income_data['year'].unique()\n"
   ]
  },
  {
   "cell_type": "code",
   "execution_count": 18,
   "metadata": {},
   "outputs": [
    {
     "name": "stdout",
     "output_type": "stream",
     "text": [
      "<class 'pandas.core.frame.DataFrame'>\n",
      "RangeIndex: 291778 entries, 0 to 291777\n",
      "Data columns (total 3 columns):\n",
      "CASEID    291778 non-null int64\n",
      "income    206150 non-null float64\n",
      "year      291778 non-null int64\n",
      "dtypes: float64(1), int64(2)\n",
      "memory usage: 6.7 MB\n"
     ]
    }
   ],
   "source": [
    "income_data.info()"
   ]
  },
  {
   "cell_type": "code",
   "execution_count": 19,
   "metadata": {},
   "outputs": [],
   "source": [
    "#income_data.groupby('year').count()"
   ]
  },
  {
   "cell_type": "markdown",
   "metadata": {},
   "source": [
    "In all, we have 23 years of data from 1982 to 2014. Surveys were taken every year between 1982 and 1994, and every other year afterwards."
   ]
  },
  {
   "cell_type": "code",
   "execution_count": 20,
   "metadata": {},
   "outputs": [
    {
     "name": "stdout",
     "output_type": "stream",
     "text": [
      "CASEID    291778\n",
      "income    206150\n",
      "year      291778\n",
      "dtype: int64\n"
     ]
    },
    {
     "data": {
      "text/plain": [
       "CASEID        0\n",
       "income    85628\n",
       "year          0\n",
       "dtype: int64"
      ]
     },
     "execution_count": 20,
     "metadata": {},
     "output_type": "execute_result"
    }
   ],
   "source": [
    "print(income_data.count())\n",
    "income_data.isnull().sum()"
   ]
  },
  {
   "cell_type": "code",
   "execution_count": 11,
   "metadata": {},
   "outputs": [
    {
     "data": {
      "text/html": [
       "<div>\n",
       "<style>\n",
       "    .dataframe thead tr:only-child th {\n",
       "        text-align: right;\n",
       "    }\n",
       "\n",
       "    .dataframe thead th {\n",
       "        text-align: left;\n",
       "    }\n",
       "\n",
       "    .dataframe tbody tr th {\n",
       "        vertical-align: top;\n",
       "    }\n",
       "</style>\n",
       "<table border=\"1\" class=\"dataframe\">\n",
       "  <thead>\n",
       "    <tr style=\"text-align: right;\">\n",
       "      <th></th>\n",
       "      <th>CASEID</th>\n",
       "      <th>income</th>\n",
       "      <th>year</th>\n",
       "    </tr>\n",
       "  </thead>\n",
       "  <tbody>\n",
       "    <tr>\n",
       "      <th>count</th>\n",
       "      <td>291778.000000</td>\n",
       "      <td>206150.000000</td>\n",
       "      <td>291778.000000</td>\n",
       "    </tr>\n",
       "    <tr>\n",
       "      <th>mean</th>\n",
       "      <td>6343.500000</td>\n",
       "      <td>19866.614194</td>\n",
       "      <td>1995.391304</td>\n",
       "    </tr>\n",
       "    <tr>\n",
       "      <th>std</th>\n",
       "      <td>3662.139022</td>\n",
       "      <td>30442.170340</td>\n",
       "      <td>9.658260</td>\n",
       "    </tr>\n",
       "    <tr>\n",
       "      <th>min</th>\n",
       "      <td>1.000000</td>\n",
       "      <td>0.000000</td>\n",
       "      <td>1982.000000</td>\n",
       "    </tr>\n",
       "    <tr>\n",
       "      <th>25%</th>\n",
       "      <td>3172.000000</td>\n",
       "      <td>1344.000000</td>\n",
       "      <td>1987.000000</td>\n",
       "    </tr>\n",
       "    <tr>\n",
       "      <th>50%</th>\n",
       "      <td>6343.500000</td>\n",
       "      <td>12000.000000</td>\n",
       "      <td>1993.000000</td>\n",
       "    </tr>\n",
       "    <tr>\n",
       "      <th>75%</th>\n",
       "      <td>9515.000000</td>\n",
       "      <td>26000.000000</td>\n",
       "      <td>2004.000000</td>\n",
       "    </tr>\n",
       "    <tr>\n",
       "      <th>max</th>\n",
       "      <td>12686.000000</td>\n",
       "      <td>370314.000000</td>\n",
       "      <td>2014.000000</td>\n",
       "    </tr>\n",
       "  </tbody>\n",
       "</table>\n",
       "</div>"
      ],
      "text/plain": [
       "              CASEID         income           year\n",
       "count  291778.000000  206150.000000  291778.000000\n",
       "mean     6343.500000   19866.614194    1995.391304\n",
       "std      3662.139022   30442.170340       9.658260\n",
       "min         1.000000       0.000000    1982.000000\n",
       "25%      3172.000000    1344.000000    1987.000000\n",
       "50%      6343.500000   12000.000000    1993.000000\n",
       "75%      9515.000000   26000.000000    2004.000000\n",
       "max     12686.000000  370314.000000    2014.000000"
      ]
     },
     "execution_count": 11,
     "metadata": {},
     "output_type": "execute_result"
    }
   ],
   "source": [
    "income_data.describe()"
   ]
  },
  {
   "cell_type": "markdown",
   "metadata": {},
   "source": [
    "\n",
    "### Truncation of income data\n",
    "\n",
    "The variable 'income' refers to the respondent's reported annual salary, with an important exception. In each survey year, the highest 2% of incomes were collected and all persons in this group were assigned the minimum income for this group. The effect is that in each year, there will be about 2% of persons with the same high salary. For example, in 2014, this highest income is $370,314. This process is known as truncation, and helps to avoid distortion of summary statistics about groups of respondents due to a few very high numbers. In your exploratory analysis of traits effecting income you may or may not want to exclude these extreme values. Just be certain to document what you are doing. \n"
   ]
  },
  {
   "cell_type": "markdown",
   "metadata": {},
   "source": [
    "## Education\n",
    "\n",
    "Load and examine the education data as follows.\n"
   ]
  },
  {
   "cell_type": "code",
   "execution_count": 21,
   "metadata": {
    "collapsed": true
   },
   "outputs": [],
   "source": [
    "education_data = pd.read_csv('./data/education_data_nlsy79.csv',usecols=['CASEID','education','year'])"
   ]
  },
  {
   "cell_type": "code",
   "execution_count": 22,
   "metadata": {},
   "outputs": [
    {
     "data": {
      "text/html": [
       "<div>\n",
       "<style>\n",
       "    .dataframe thead tr:only-child th {\n",
       "        text-align: right;\n",
       "    }\n",
       "\n",
       "    .dataframe thead th {\n",
       "        text-align: left;\n",
       "    }\n",
       "\n",
       "    .dataframe tbody tr th {\n",
       "        vertical-align: top;\n",
       "    }\n",
       "</style>\n",
       "<table border=\"1\" class=\"dataframe\">\n",
       "  <thead>\n",
       "    <tr style=\"text-align: right;\">\n",
       "      <th></th>\n",
       "      <th>CASEID</th>\n",
       "      <th>education</th>\n",
       "      <th>year</th>\n",
       "    </tr>\n",
       "  </thead>\n",
       "  <tbody>\n",
       "    <tr>\n",
       "      <th>0</th>\n",
       "      <td>1</td>\n",
       "      <td>12.0</td>\n",
       "      <td>1979</td>\n",
       "    </tr>\n",
       "    <tr>\n",
       "      <th>1</th>\n",
       "      <td>2</td>\n",
       "      <td>9.0</td>\n",
       "      <td>1979</td>\n",
       "    </tr>\n",
       "    <tr>\n",
       "      <th>2</th>\n",
       "      <td>3</td>\n",
       "      <td>10.0</td>\n",
       "      <td>1979</td>\n",
       "    </tr>\n",
       "    <tr>\n",
       "      <th>3</th>\n",
       "      <td>4</td>\n",
       "      <td>9.0</td>\n",
       "      <td>1979</td>\n",
       "    </tr>\n",
       "    <tr>\n",
       "      <th>4</th>\n",
       "      <td>5</td>\n",
       "      <td>13.0</td>\n",
       "      <td>1979</td>\n",
       "    </tr>\n",
       "  </tbody>\n",
       "</table>\n",
       "</div>"
      ],
      "text/plain": [
       "   CASEID  education  year\n",
       "0       1       12.0  1979\n",
       "1       2        9.0  1979\n",
       "2       3       10.0  1979\n",
       "3       4        9.0  1979\n",
       "4       5       13.0  1979"
      ]
     },
     "execution_count": 22,
     "metadata": {},
     "output_type": "execute_result"
    }
   ],
   "source": [
    "education_data.head()"
   ]
  },
  {
   "cell_type": "code",
   "execution_count": 23,
   "metadata": {},
   "outputs": [
    {
     "name": "stdout",
     "output_type": "stream",
     "text": [
      "12686\n"
     ]
    }
   ],
   "source": [
    "#CASEID and year are as described for income.  \n",
    "#We have the same number of unique respondants.\n",
    "print(len(education_data['CASEID'].unique()))"
   ]
  },
  {
   "cell_type": "code",
   "execution_count": 24,
   "metadata": {},
   "outputs": [
    {
     "data": {
      "text/plain": [
       "array([1979, 1980, 1981, 1982, 1983, 1984, 1985, 1986, 1987, 1988, 1989,\n",
       "       1990, 1991, 1992, 1993, 1994, 1996, 1998, 2000, 2002, 2004, 2006,\n",
       "       2008, 2010, 2012, 2014], dtype=int64)"
      ]
     },
     "execution_count": 24,
     "metadata": {},
     "output_type": "execute_result"
    }
   ],
   "source": [
    "#we have data for the following years\n",
    "education_data['year'].unique()"
   ]
  },
  {
   "cell_type": "markdown",
   "metadata": {},
   "source": [
    "The variable that is reported here as 'education' is the one on the survey described as \"highest grade completed as of May 1 of survey year\". So, this is a cummulative accounting of the achieved level of education. The possible values are:\n"
   ]
  },
  {
   "cell_type": "code",
   "execution_count": 25,
   "metadata": {},
   "outputs": [
    {
     "data": {
      "text/plain": [
       "array([  0.,   1.,   2.,   3.,   4.,   5.,   6.,   7.,   8.,   9.,  10.,\n",
       "        11.,  12.,  13.,  14.,  15.,  16.,  17.,  18.,  19.,  20.,  95.,\n",
       "        nan])"
      ]
     },
     "execution_count": 25,
     "metadata": {},
     "output_type": "execute_result"
    }
   ],
   "source": [
    "education_data['education'].sort_values().unique()"
   ]
  },
  {
   "cell_type": "markdown",
   "metadata": {},
   "source": [
    "The codebook at the survey site gives us more help in interpreting these numbers. A high school education is grade 12, four years of college is grade 16, 4 years or more of postgraduate education is coded as grade 20. The code 95 refers to some \"ungraded\" education (this is rare).   \n",
    "\n",
    "When analyzing features of education you may want to create a factor expressing a natural level of achievement, such as \"High School Graduate\", \"College Graduate\", etc. The choice of using the years of education variable or a factor is yours.   "
   ]
  },
  {
   "cell_type": "markdown",
   "metadata": {},
   "source": [
    "## Physical characteristics\n",
    "\n",
    "Load the physical data as follows:"
   ]
  },
  {
   "cell_type": "code",
   "execution_count": 26,
   "metadata": {
    "collapsed": true
   },
   "outputs": [],
   "source": [
    "physical_data = pd.read_csv('./data/physical_data_nlsy79.csv',usecols=['CASEID','weight','year','eyes','hair','race','sex','height','BMI'])"
   ]
  },
  {
   "cell_type": "code",
   "execution_count": 27,
   "metadata": {},
   "outputs": [
    {
     "data": {
      "text/html": [
       "<div>\n",
       "<style>\n",
       "    .dataframe thead tr:only-child th {\n",
       "        text-align: right;\n",
       "    }\n",
       "\n",
       "    .dataframe thead th {\n",
       "        text-align: left;\n",
       "    }\n",
       "\n",
       "    .dataframe tbody tr th {\n",
       "        vertical-align: top;\n",
       "    }\n",
       "</style>\n",
       "<table border=\"1\" class=\"dataframe\">\n",
       "  <thead>\n",
       "    <tr style=\"text-align: right;\">\n",
       "      <th></th>\n",
       "      <th>CASEID</th>\n",
       "      <th>weight</th>\n",
       "      <th>year</th>\n",
       "      <th>eyes</th>\n",
       "      <th>hair</th>\n",
       "      <th>race</th>\n",
       "      <th>sex</th>\n",
       "      <th>height</th>\n",
       "      <th>BMI</th>\n",
       "    </tr>\n",
       "  </thead>\n",
       "  <tbody>\n",
       "    <tr>\n",
       "      <th>0</th>\n",
       "      <td>1</td>\n",
       "      <td>NaN</td>\n",
       "      <td>1981</td>\n",
       "      <td>NaN</td>\n",
       "      <td>NaN</td>\n",
       "      <td>NBNH</td>\n",
       "      <td>female</td>\n",
       "      <td>65.0</td>\n",
       "      <td>NaN</td>\n",
       "    </tr>\n",
       "    <tr>\n",
       "      <th>1</th>\n",
       "      <td>2</td>\n",
       "      <td>120.0</td>\n",
       "      <td>1981</td>\n",
       "      <td>hazel</td>\n",
       "      <td>light brown</td>\n",
       "      <td>NBNH</td>\n",
       "      <td>female</td>\n",
       "      <td>62.0</td>\n",
       "      <td>21.948431</td>\n",
       "    </tr>\n",
       "    <tr>\n",
       "      <th>2</th>\n",
       "      <td>3</td>\n",
       "      <td>NaN</td>\n",
       "      <td>1981</td>\n",
       "      <td>blue</td>\n",
       "      <td>blond</td>\n",
       "      <td>NBNH</td>\n",
       "      <td>female</td>\n",
       "      <td>NaN</td>\n",
       "      <td>NaN</td>\n",
       "    </tr>\n",
       "    <tr>\n",
       "      <th>3</th>\n",
       "      <td>4</td>\n",
       "      <td>110.0</td>\n",
       "      <td>1981</td>\n",
       "      <td>blue</td>\n",
       "      <td>light brown</td>\n",
       "      <td>NBNH</td>\n",
       "      <td>female</td>\n",
       "      <td>67.0</td>\n",
       "      <td>17.228549</td>\n",
       "    </tr>\n",
       "    <tr>\n",
       "      <th>4</th>\n",
       "      <td>5</td>\n",
       "      <td>130.0</td>\n",
       "      <td>1981</td>\n",
       "      <td>NaN</td>\n",
       "      <td>NaN</td>\n",
       "      <td>NBNH</td>\n",
       "      <td>male</td>\n",
       "      <td>63.0</td>\n",
       "      <td>23.028617</td>\n",
       "    </tr>\n",
       "  </tbody>\n",
       "</table>\n",
       "</div>"
      ],
      "text/plain": [
       "   CASEID  weight  year   eyes         hair  race     sex  height        BMI\n",
       "0       1     NaN  1981    NaN          NaN  NBNH  female    65.0        NaN\n",
       "1       2   120.0  1981  hazel  light brown  NBNH  female    62.0  21.948431\n",
       "2       3     NaN  1981   blue        blond  NBNH  female     NaN        NaN\n",
       "3       4   110.0  1981   blue  light brown  NBNH  female    67.0  17.228549\n",
       "4       5   130.0  1981    NaN          NaN  NBNH    male    63.0  23.028617"
      ]
     },
     "execution_count": 27,
     "metadata": {},
     "output_type": "execute_result"
    }
   ],
   "source": [
    "physical_data.head()"
   ]
  },
  {
   "cell_type": "markdown",
   "metadata": {},
   "source": [
    "We have many traits reported here. 'eyes', 'hair', 'race', 'sex' were collected at the start of the survey and not updated afterwards. However, we repeated these values each year for convenience. The possible values are:"
   ]
  },
  {
   "cell_type": "code",
   "execution_count": 28,
   "metadata": {},
   "outputs": [
    {
     "data": {
      "text/plain": [
       "array([nan, 'hazel', 'blue', 'brown', 'green', 'light brown', 'other',\n",
       "       'black', 'light blue', 'grey'], dtype=object)"
      ]
     },
     "execution_count": 28,
     "metadata": {},
     "output_type": "execute_result"
    }
   ],
   "source": [
    "physical_data['eyes'].unique()"
   ]
  },
  {
   "cell_type": "code",
   "execution_count": 29,
   "metadata": {},
   "outputs": [
    {
     "data": {
      "text/plain": [
       "array([nan, 'light brown', 'blond', 'brown', 'black', 'red', 'light blond',\n",
       "       'grey'], dtype=object)"
      ]
     },
     "execution_count": 29,
     "metadata": {},
     "output_type": "execute_result"
    }
   ],
   "source": [
    "physical_data['hair'].unique()"
   ]
  },
  {
   "cell_type": "code",
   "execution_count": 30,
   "metadata": {},
   "outputs": [
    {
     "data": {
      "text/plain": [
       "array(['NBNH', 'hispanic', 'black'], dtype=object)"
      ]
     },
     "execution_count": 30,
     "metadata": {},
     "output_type": "execute_result"
    }
   ],
   "source": [
    "physical_data['race'].unique()"
   ]
  },
  {
   "cell_type": "markdown",
   "metadata": {},
   "source": [
    "\n",
    "NBNH means not black or Hispanic. "
   ]
  },
  {
   "cell_type": "code",
   "execution_count": 31,
   "metadata": {},
   "outputs": [
    {
     "data": {
      "text/plain": [
       "array(['female', 'male'], dtype=object)"
      ]
     },
     "execution_count": 31,
     "metadata": {},
     "output_type": "execute_result"
    }
   ],
   "source": [
    "physical_data['sex'].unique()"
   ]
  },
  {
   "cell_type": "markdown",
   "metadata": {},
   "source": [
    "The height and weight data are given in integers, height in inches and weight in pounds. The height data was prepared as you did in Part A of the project. One complication is that height and weight were not updated each survey year. To discover the years for which we have such data, identify the years with non-NaN weight and height data as follows:\n"
   ]
  },
  {
   "cell_type": "code",
   "execution_count": 32,
   "metadata": {},
   "outputs": [
    {
     "data": {
      "text/plain": [
       "array([1981, 1982, 1985, 2006, 2008, 2010, 2012, 2014], dtype=int64)"
      ]
     },
     "execution_count": 32,
     "metadata": {},
     "output_type": "execute_result"
    }
   ],
   "source": [
    "physical_data[~physical_data['height'].isnull()]['year'].unique()"
   ]
  },
  {
   "cell_type": "code",
   "execution_count": 33,
   "metadata": {},
   "outputs": [
    {
     "data": {
      "text/plain": [
       "array([1981, 1982, 1985, 1986, 1988, 1989, 1990, 1992, 1993, 1994, 1996,\n",
       "       1998, 2000, 2002, 2004, 2006, 2008, 2010, 2012, 2014], dtype=int64)"
      ]
     },
     "execution_count": 33,
     "metadata": {},
     "output_type": "execute_result"
    }
   ],
   "source": [
    "physical_data[~physical_data['weight'].isnull()]['year'].unique()"
   ]
  },
  {
   "cell_type": "markdown",
   "metadata": {},
   "source": [
    "While weight appears to have been recorded for multiple years in which height was not recorded (1986 - 2004), this data must be used cautiously. Examination of the numbers of non-NA weight readings per year shows that weight was collected on only a small number of respondents in these years. We recommend only using weight data for the same years in which height data was surveyed.  \n",
    "\n",
    "For convenience, we computed 'BMI' and added this to the data frame of physical characteristics. Of course, this is only available for years in which both height and weight were recorded. "
   ]
  },
  {
   "cell_type": "markdown",
   "metadata": {},
   "source": [
    "\n",
    "# Factors effecting years of education: an example of EDA\n",
    "\n",
    "Following is an example of EDA along the lines we expect you to perform."
   ]
  },
  {
   "cell_type": "markdown",
   "metadata": {},
   "source": [
    "## Plan and scope for the analysis\n",
    "\n",
    "Our objective is to explore factors that effect the number of years of education achieved. Income level is likely a consequence of years of education, so correlations between those two are best analyzed when income is the objective -- this is for you to do. Thus, we'll only analyze the effects of physical characteristics on years of education. Because years of education is a cumulative measure, we choose to restrict our analysis to data from 2014. For our analysis, we choose the following objective.\n",
    "\n",
    "**Our analysis will be to study effects of race and gender on years of education in the 2014 data** \n",
    "\n",
    "This is only one of many possible objectives for studying educational features of these respondents.\n",
    "There are many related aspects of education that could be analyzed under this general objective. For example, rather than simply consider the maximum grade finally achieved, another informative objective could be to analyze the number of years it takes to obtain a college degree. We chose one objective to provide a focus to our efforts.\n",
    "\n",
    "Moreover, we could also choose to explore the effects of height, weight and BMI on years of education. In this case we would need to consider the values of these measures during the years in which the respondents were in school to gauge any causative effect. \n",
    "\n"
   ]
  },
  {
   "cell_type": "markdown",
   "metadata": {},
   "source": [
    "## Join the data\n",
    "\n",
    "Our analysis concerns education and physical characteristics in 2014, so we join the relevant datasets and restrict the year."
   ]
  },
  {
   "cell_type": "code",
   "execution_count": 36,
   "metadata": {},
   "outputs": [
    {
     "name": "stdout",
     "output_type": "stream",
     "text": [
      "12686\n"
     ]
    },
    {
     "data": {
      "text/plain": [
       "12686"
      ]
     },
     "execution_count": 36,
     "metadata": {},
     "output_type": "execute_result"
    }
   ],
   "source": [
    "education_data_2014 = education_data[education_data['year']==2014]\n",
    "physical_data_2014 = physical_data[physical_data['year']==2014] \n",
    "print(len(education_data_2014))\n",
    "len(physical_data_2014)"
   ]
  },
  {
   "cell_type": "code",
   "execution_count": 37,
   "metadata": {
    "collapsed": true
   },
   "outputs": [],
   "source": [
    "educ_phys_2014 = pd.merge(education_data_2014,physical_data_2014,left_on=['CASEID','year'],right_on=['CASEID','year'],how='inner')"
   ]
  },
  {
   "cell_type": "code",
   "execution_count": 38,
   "metadata": {},
   "outputs": [
    {
     "data": {
      "text/html": [
       "<div>\n",
       "<style>\n",
       "    .dataframe thead tr:only-child th {\n",
       "        text-align: right;\n",
       "    }\n",
       "\n",
       "    .dataframe thead th {\n",
       "        text-align: left;\n",
       "    }\n",
       "\n",
       "    .dataframe tbody tr th {\n",
       "        vertical-align: top;\n",
       "    }\n",
       "</style>\n",
       "<table border=\"1\" class=\"dataframe\">\n",
       "  <thead>\n",
       "    <tr style=\"text-align: right;\">\n",
       "      <th></th>\n",
       "      <th>CASEID</th>\n",
       "      <th>education</th>\n",
       "      <th>year</th>\n",
       "      <th>weight</th>\n",
       "      <th>eyes</th>\n",
       "      <th>hair</th>\n",
       "      <th>race</th>\n",
       "      <th>sex</th>\n",
       "      <th>height</th>\n",
       "      <th>BMI</th>\n",
       "    </tr>\n",
       "  </thead>\n",
       "  <tbody>\n",
       "    <tr>\n",
       "      <th>0</th>\n",
       "      <td>1</td>\n",
       "      <td>NaN</td>\n",
       "      <td>2014</td>\n",
       "      <td>NaN</td>\n",
       "      <td>NaN</td>\n",
       "      <td>NaN</td>\n",
       "      <td>NBNH</td>\n",
       "      <td>female</td>\n",
       "      <td>NaN</td>\n",
       "      <td>NaN</td>\n",
       "    </tr>\n",
       "    <tr>\n",
       "      <th>1</th>\n",
       "      <td>2</td>\n",
       "      <td>12.0</td>\n",
       "      <td>2014</td>\n",
       "      <td>151.0</td>\n",
       "      <td>hazel</td>\n",
       "      <td>light brown</td>\n",
       "      <td>NBNH</td>\n",
       "      <td>female</td>\n",
       "      <td>60.0</td>\n",
       "      <td>29.490359</td>\n",
       "    </tr>\n",
       "    <tr>\n",
       "      <th>2</th>\n",
       "      <td>3</td>\n",
       "      <td>10.0</td>\n",
       "      <td>2014</td>\n",
       "      <td>160.0</td>\n",
       "      <td>blue</td>\n",
       "      <td>blond</td>\n",
       "      <td>NBNH</td>\n",
       "      <td>female</td>\n",
       "      <td>70.0</td>\n",
       "      <td>22.957760</td>\n",
       "    </tr>\n",
       "    <tr>\n",
       "      <th>3</th>\n",
       "      <td>4</td>\n",
       "      <td>NaN</td>\n",
       "      <td>2014</td>\n",
       "      <td>NaN</td>\n",
       "      <td>blue</td>\n",
       "      <td>light brown</td>\n",
       "      <td>NBNH</td>\n",
       "      <td>female</td>\n",
       "      <td>NaN</td>\n",
       "      <td>NaN</td>\n",
       "    </tr>\n",
       "    <tr>\n",
       "      <th>4</th>\n",
       "      <td>5</td>\n",
       "      <td>NaN</td>\n",
       "      <td>2014</td>\n",
       "      <td>NaN</td>\n",
       "      <td>NaN</td>\n",
       "      <td>NaN</td>\n",
       "      <td>NBNH</td>\n",
       "      <td>male</td>\n",
       "      <td>NaN</td>\n",
       "      <td>NaN</td>\n",
       "    </tr>\n",
       "  </tbody>\n",
       "</table>\n",
       "</div>"
      ],
      "text/plain": [
       "   CASEID  education  year  weight   eyes         hair  race     sex  height  \\\n",
       "0       1        NaN  2014     NaN    NaN          NaN  NBNH  female     NaN   \n",
       "1       2       12.0  2014   151.0  hazel  light brown  NBNH  female    60.0   \n",
       "2       3       10.0  2014   160.0   blue        blond  NBNH  female    70.0   \n",
       "3       4        NaN  2014     NaN   blue  light brown  NBNH  female     NaN   \n",
       "4       5        NaN  2014     NaN    NaN          NaN  NBNH    male     NaN   \n",
       "\n",
       "         BMI  \n",
       "0        NaN  \n",
       "1  29.490359  \n",
       "2  22.957760  \n",
       "3        NaN  \n",
       "4        NaN  "
      ]
     },
     "execution_count": 38,
     "metadata": {},
     "output_type": "execute_result"
    }
   ],
   "source": [
    "educ_phys_2014.head()"
   ]
  },
  {
   "cell_type": "code",
   "execution_count": 39,
   "metadata": {},
   "outputs": [
    {
     "data": {
      "text/plain": [
       "12686"
      ]
     },
     "execution_count": 39,
     "metadata": {},
     "output_type": "execute_result"
    }
   ],
   "source": [
    "len(educ_phys_2014)"
   ]
  },
  {
   "cell_type": "markdown",
   "metadata": {},
   "source": [
    "## Exploration of the education variable\n",
    "\n",
    "Education is an integer variable with a limited number of possible values. The simplest way to study the distribution is with a bar plot, as follows."
   ]
  },
  {
   "cell_type": "code",
   "execution_count": 42,
   "metadata": {},
   "outputs": [
    {
     "data": {
      "text/plain": [
       "(array([   24.,    36.,   129.,   833.,  3292.,  1073.,  1413.,   257.,\n",
       "            0.,     0.,     0.,     0.,     0.,     0.,     0.,     0.,\n",
       "            0.,     0.,     0.,     0.,     0.,     0.,     0.,     0.,\n",
       "            0.,     0.,     0.,     0.,     0.,     0.,     0.,     0.,\n",
       "            0.,     0.,     0.,     0.,     0.,     0.,     0.,     8.]),\n",
       " array([  2.   ,   4.325,   6.65 ,   8.975,  11.3  ,  13.625,  15.95 ,\n",
       "         18.275,  20.6  ,  22.925,  25.25 ,  27.575,  29.9  ,  32.225,\n",
       "         34.55 ,  36.875,  39.2  ,  41.525,  43.85 ,  46.175,  48.5  ,\n",
       "         50.825,  53.15 ,  55.475,  57.8  ,  60.125,  62.45 ,  64.775,\n",
       "         67.1  ,  69.425,  71.75 ,  74.075,  76.4  ,  78.725,  81.05 ,\n",
       "         83.375,  85.7  ,  88.025,  90.35 ,  92.675,  95.   ]),\n",
       " <a list of 40 Patch objects>)"
      ]
     },
     "execution_count": 42,
     "metadata": {},
     "output_type": "execute_result"
    },
    {
     "data": {
      "image/png": "[encoded data removed]",
      "text/plain": [
       "<matplotlib.figure.Figure at 0xcbb16a0>"
      ]
     },
     "metadata": {},
     "output_type": "display_data"
    }
   ],
   "source": [
    "figure, axes = plt.subplots()\n",
    "\n",
    "axes.hist(educ_phys_2014.education.dropna(),bins = 40)\n",
    "\n"
   ]
  },
  {
   "cell_type": "code",
   "execution_count": 41,
   "metadata": {},
   "outputs": [
    {
     "data": {
      "text/plain": [
       "(array([   60.,   962.,  4365.,  1670.,     0.,     0.,     0.,     0.,\n",
       "            0.,     0.,     0.,     0.,     0.,     0.,     0.,     0.,\n",
       "            0.,     0.,     0.,     8.]),\n",
       " array([  2.  ,   6.65,  11.3 ,  15.95,  20.6 ,  25.25,  29.9 ,  34.55,\n",
       "         39.2 ,  43.85,  48.5 ,  53.15,  57.8 ,  62.45,  67.1 ,  71.75,\n",
       "         76.4 ,  81.05,  85.7 ,  90.35,  95.  ]),\n",
       " <a list of 20 Patch objects>)"
      ]
     },
     "execution_count": 41,
     "metadata": {},
     "output_type": "execute_result"
    },
    {
     "data": {
      "image/png": "[encoded data removed]",
      "text/plain": [
       "<matplotlib.figure.Figure at 0xb690d30>"
      ]
     },
     "metadata": {},
     "output_type": "display_data"
    }
   ],
   "source": [
    "#to zero in on 95 adjust range\n",
    "figure, axes = plt.subplots()\n",
    "\n",
    "\n",
    "axes.hist(educ_phys_2014.education.dropna(),bins=20)\n"
   ]
  },
  {
   "cell_type": "code",
   "execution_count": 43,
   "metadata": {},
   "outputs": [
    {
     "data": {
      "text/plain": [
       "<matplotlib.axes._subplots.AxesSubplot at 0xccea748>"
      ]
     },
     "execution_count": 43,
     "metadata": {},
     "output_type": "execute_result"
    },
    {
     "data": {
      "image/png": "[encoded data removed]",
      "text/plain": [
       "<matplotlib.figure.Figure at 0xccffb70>"
      ]
     },
     "metadata": {},
     "output_type": "display_data"
    }
   ],
   "source": [
    "#also could do bar graph\n",
    "educ_phys_2014[['CASEID','education']].groupby('education').CASEID.nunique().plot(kind='bar')"
   ]
  },
  {
   "cell_type": "markdown",
   "metadata": {},
   "source": [
    "This plot reveals the spurious value, 95, meaning some ungraded education. We'll exclude these from the analysis. Clearly, there are few of these values in the data."
   ]
  },
  {
   "cell_type": "code",
   "execution_count": 44,
   "metadata": {},
   "outputs": [
    {
     "data": {
      "text/plain": [
       "<matplotlib.axes._subplots.AxesSubplot at 0xcdb4d68>"
      ]
     },
     "execution_count": 44,
     "metadata": {},
     "output_type": "execute_result"
    },
    {
     "data": {
      "image/png": "[encoded data removed]",
      "text/plain": [
       "<matplotlib.figure.Figure at 0xcdc3710>"
      ]
     },
     "metadata": {},
     "output_type": "display_data"
    }
   ],
   "source": [
    "educ_phys_2014[educ_phys_2014['education']<95][['CASEID','education']].groupby('education').CASEID.nunique().plot(kind='bar')"
   ]
  },
  {
   "cell_type": "markdown",
   "metadata": {},
   "source": [
    "There are bumps in the distribution at 12 and 16 years as expected, and also 14 years, perhaps for associate degrees, and 18 years for an MBA or other 2-year master's degree.\n",
    "\n",
    "In how many cases is educational data non-missing?"
   ]
  },
  {
   "cell_type": "code",
   "execution_count": 46,
   "metadata": {},
   "outputs": [
    {
     "name": "stdout",
     "output_type": "stream",
     "text": [
      "5621\n"
     ]
    },
    {
     "data": {
      "text/plain": [
       "7065"
      ]
     },
     "execution_count": 46,
     "metadata": {},
     "output_type": "execute_result"
    }
   ],
   "source": [
    "print(sum(educ_phys_2014['education'].isnull()))\n",
    "sum(educ_phys_2014['education'].notnull())"
   ]
  },
  {
   "cell_type": "markdown",
   "metadata": {},
   "source": [
    "There are over 12,000 cases in all, so education is missing in many cases. However, 7000 is still a large number to study. Note that when you filter education data by `education < 95`, it also removes records with NaN values. \n",
    "\n",
    "\n",
    "There do not appear to be any additional anomalies in the education data that could represent erroneous values.\n"
   ]
  },
  {
   "cell_type": "markdown",
   "metadata": {},
   "source": [
    "## Study of gender\n",
    "\n",
    "Let's plot sex to examine the distribution."
   ]
  },
  {
   "cell_type": "code",
   "execution_count": 47,
   "metadata": {},
   "outputs": [
    {
     "data": {
      "text/plain": [
       "<matplotlib.axes._subplots.AxesSubplot at 0xced4160>"
      ]
     },
     "execution_count": 47,
     "metadata": {},
     "output_type": "execute_result"
    },
    {
     "data": {
      "image/png": "[encoded data removed]",
      "text/plain": [
       "<matplotlib.figure.Figure at 0xced8198>"
      ]
     },
     "metadata": {},
     "output_type": "display_data"
    }
   ],
   "source": [
    "educ_phys_2014[educ_phys_2014['education']<95][['CASEID','sex']].groupby('sex').CASEID.nunique().plot(kind='bar')"
   ]
  },
  {
   "cell_type": "code",
   "execution_count": 48,
   "metadata": {},
   "outputs": [
    {
     "data": {
      "text/plain": [
       "sex\n",
       "female    3658\n",
       "male      3399\n",
       "Name: CASEID, dtype: int64"
      ]
     },
     "execution_count": 48,
     "metadata": {},
     "output_type": "execute_result"
    }
   ],
   "source": [
    "#The numbers of males and females are comparable.\n",
    "\n",
    "educ_phys_2014[educ_phys_2014['education']<95].groupby('sex')['CASEID'].count()\n",
    "\n"
   ]
  },
  {
   "cell_type": "code",
   "execution_count": 49,
   "metadata": {},
   "outputs": [
    {
     "data": {
      "text/plain": [
       "0"
      ]
     },
     "execution_count": 49,
     "metadata": {},
     "output_type": "execute_result"
    }
   ],
   "source": [
    "#There are no missing values.\n",
    "sum(educ_phys_2014[educ_phys_2014['education']<95]['sex'].isnull())"
   ]
  },
  {
   "cell_type": "markdown",
   "metadata": {},
   "source": [
    "## Study of race"
   ]
  },
  {
   "cell_type": "code",
   "execution_count": 50,
   "metadata": {},
   "outputs": [
    {
     "data": {
      "text/plain": [
       "<matplotlib.axes._subplots.AxesSubplot at 0xcf942b0>"
      ]
     },
     "execution_count": 50,
     "metadata": {},
     "output_type": "execute_result"
    },
    {
     "data": {
      "image/png": "[encoded data removed]",
      "text/plain": [
       "<matplotlib.figure.Figure at 0xcfa0278>"
      ]
     },
     "metadata": {},
     "output_type": "display_data"
    }
   ],
   "source": [
    "educ_phys_2014[educ_phys_2014['education']<95][['CASEID','race']].groupby('race').CASEID.nunique().plot(kind='bar')\n"
   ]
  },
  {
   "cell_type": "markdown",
   "metadata": {},
   "source": [
    "This shows that in each racial group we have over 1200 respondents. This is a high enough sample size for meaningful analysis."
   ]
  },
  {
   "cell_type": "code",
   "execution_count": 51,
   "metadata": {},
   "outputs": [
    {
     "data": {
      "text/plain": [
       "0"
      ]
     },
     "execution_count": 51,
     "metadata": {},
     "output_type": "execute_result"
    }
   ],
   "source": [
    "#No mising values\n",
    "sum(educ_phys_2014[educ_phys_2014['education']<95]['race'].isnull())"
   ]
  },
  {
   "cell_type": "markdown",
   "metadata": {
    "collapsed": true
   },
   "source": [
    "## Explore the effects of sex on years of education\n",
    "\n",
    "We'll use a series of plots to get insight into this relationship. Sex is a categorical variable and years of education an integer that can take on many values, so we'll first try a boxplot. \n"
   ]
  },
  {
   "cell_type": "code",
   "execution_count": 52,
   "metadata": {},
   "outputs": [
    {
     "data": {
      "text/plain": [
       "<matplotlib.axes._subplots.AxesSubplot at 0xe2e0978>"
      ]
     },
     "execution_count": 52,
     "metadata": {},
     "output_type": "execute_result"
    },
    {
     "data": {
      "image/png": "[encoded data removed]",
      "text/plain": [
       "<matplotlib.figure.Figure at 0xe20e080>"
      ]
     },
     "metadata": {},
     "output_type": "display_data"
    }
   ],
   "source": [
    "import seaborn as sns\n",
    "\n",
    "sns.boxplot(educ_phys_2014[educ_phys_2014['education']<95].sex,educ_phys_2014[educ_phys_2014['education']<95].education)\n"
   ]
  },
  {
   "cell_type": "markdown",
   "metadata": {},
   "source": [
    "\n",
    "The discrete nature of this integer education variable leads to irregularities in the boxplots. For example, it appears that the medians in both genders is at 12, which is also the 1st quartile. It does appear that the third quartile for females is higher than that for males. \n",
    "\n",
    "For an analysis that provides more granularity, we plot bar plots faceted by gender."
   ]
  },
  {
   "cell_type": "code",
   "execution_count": 53,
   "metadata": {},
   "outputs": [
    {
     "data": {
      "text/plain": [
       "<matplotlib.legend.Legend at 0xcfb7a20>"
      ]
     },
     "execution_count": 53,
     "metadata": {},
     "output_type": "execute_result"
    },
    {
     "data": {
      "image/png": "[encoded data removed]",
      "text/plain": [
       "<matplotlib.figure.Figure at 0xcfb7710>"
      ]
     },
     "metadata": {},
     "output_type": "display_data"
    }
   ],
   "source": [
    "#to make things easier we're going to create dataframe df that has education filtered to only include values < 95\n",
    "df = educ_phys_2014[educ_phys_2014['education']<95]\n",
    "\n",
    "figures, axes = plt.subplots()\n",
    "\n",
    "axes.hist(df[df['sex']=='male'].education,color='blue',alpha=0.45,label='male education')\n",
    "axes.hist(df[df['sex']=='female'].education,color='yellow',alpha=0.5,label='female education')\n",
    "axes.legend()"
   ]
  },
  {
   "cell_type": "code",
   "execution_count": 54,
   "metadata": {},
   "outputs": [
    {
     "data": {
      "text/plain": [
       "<matplotlib.axes._subplots.AxesSubplot at 0xe49fcc0>"
      ]
     },
     "execution_count": 54,
     "metadata": {},
     "output_type": "execute_result"
    },
    {
     "data": {
      "image/png": "[encoded data removed]",
      "text/plain": [
       "<matplotlib.figure.Figure at 0xce38208>"
      ]
     },
     "metadata": {},
     "output_type": "display_data"
    }
   ],
   "source": [
    "df[['education','sex','CASEID']].groupby(['education','sex']).CASEID.nunique().unstack().plot(kind='bar',figsize=(12,6))"
   ]
  },
  {
   "cell_type": "markdown",
   "metadata": {},
   "source": [
    "This histogram suggests that more females than males obtain college degrees and associate degrees (14 years of education). The numbers of high school graduates appear nearly the same for males and females."
   ]
  },
  {
   "cell_type": "markdown",
   "metadata": {},
   "source": [
    "## Education and race\n",
    "\n",
    "Let's use a faceted plot, as we did with sex."
   ]
  },
  {
   "cell_type": "code",
   "execution_count": 61,
   "metadata": {},
   "outputs": [
    {
     "data": {
      "text/plain": [
       "<matplotlib.axes._subplots.AxesSubplot at 0xedaedd8>"
      ]
     },
     "execution_count": 61,
     "metadata": {},
     "output_type": "execute_result"
    },
    {
     "data": {
      "image/png": "[encoded data removed]",
      "text/plain": [
       "<matplotlib.figure.Figure at 0xe764fd0>"
      ]
     },
     "metadata": {},
     "output_type": "display_data"
    }
   ],
   "source": [
    "df[['education','race','CASEID']].groupby(['education','race']).CASEID.nunique().unstack().plot(kind='bar',figsize=(12,6))"
   ]
  },
  {
   "cell_type": "markdown",
   "metadata": {},
   "source": [
    "These are difficult to analyze comparatively because of the differences in raw numbers of respondents in each racial group. We're more interested in the proportions of respondents at each educational level. Googling for how to do this reveals the correct adjustment to the aesthetics."
   ]
  },
  {
   "cell_type": "code",
   "execution_count": 64,
   "metadata": {},
   "outputs": [
    {
     "data": {
      "text/plain": [
       "<matplotlib.axes._subplots.AxesSubplot at 0xf3bde80>"
      ]
     },
     "execution_count": 64,
     "metadata": {},
     "output_type": "execute_result"
    },
    {
     "data": {
      "image/png": "[encoded data removed]",
      "text/plain": [
       "<matplotlib.figure.Figure at 0xcbb1898>"
      ]
     },
     "metadata": {},
     "output_type": "display_data"
    }
   ],
   "source": [
    "group_1 = df[['education','race','CASEID']].groupby(['race','education']).CASEID.nunique()\n",
    "group_2 = group_1.groupby(level=0).apply(lambda x: 100 * x / float(x.sum()))\n",
    "\n",
    "#print(group_1)\n",
    "#group_2\n",
    "group_2.unstack().plot(kind='bar',figsize=(12,6))"
   ]
  },
  {
   "cell_type": "markdown",
   "metadata": {},
   "source": [
    "There is certainly racial disparity in years of education at all levels from high school and beyond, With highest proportions for NBNH, then blacks and then Hispanics."
   ]
  },
  {
   "cell_type": "markdown",
   "metadata": {},
   "source": [
    "## Combined effects of gender and race on years of education\n",
    "\n",
    "We have seen that both gender and race have some effect on the number of years of education. To deepen our understanding we would like to know if the effect of gender on years of education is the same for each race. It is challenging to make such a comparison in plots such as these. Multiple plots on different subsets of data may be necessary. In your own work, it may take several attempts to find the most informative plot or plots.\n",
    "\n",
    "Below, we study the relationship between years of education and gender, separately for each racial group. "
   ]
  },
  {
   "cell_type": "code",
   "execution_count": 67,
   "metadata": {},
   "outputs": [
    {
     "data": {
      "text/plain": [
       "<matplotlib.axes._subplots.AxesSubplot at 0x12187f28>"
      ]
     },
     "execution_count": 67,
     "metadata": {},
     "output_type": "execute_result"
    },
    {
     "data": {
      "image/png": "[encoded data removed]",
      "text/plain": [
       "<matplotlib.figure.Figure at 0x121229e8>"
      ]
     },
     "metadata": {},
     "output_type": "display_data"
    }
   ],
   "source": [
    "nbnh = df[df['race']=='NBNH']\n",
    "group_1 = nbnh[['education','sex','CASEID']].groupby(['sex','education']).CASEID.nunique()\n",
    "group_2 = group_1.groupby(level=0).apply(lambda x: 100 * x / float(x.sum()))\n",
    "#print(group_1)\n",
    "group_2.unstack().plot(kind='bar',figsize=(12,6))"
   ]
  },
  {
   "cell_type": "markdown",
   "metadata": {},
   "source": [
    "There appear to be a slightly higher proportion of females at years above a high school diploma.\n",
    "\n",
    "To set the focus on the education level at which we see some potential disparity, we further subset to education level above 12 years. Redo the above plot for this group."
   ]
  },
  {
   "cell_type": "code",
   "execution_count": 70,
   "metadata": {},
   "outputs": [
    {
     "data": {
      "text/plain": [
       "<matplotlib.axes._subplots.AxesSubplot at 0x12adc320>"
      ]
     },
     "execution_count": 70,
     "metadata": {},
     "output_type": "execute_result"
    },
    {
     "data": {
      "image/png": "[encoded data removed]",
      "text/plain": [
       "<matplotlib.figure.Figure at 0x12ae7f28>"
      ]
     },
     "metadata": {},
     "output_type": "display_data"
    }
   ],
   "source": [
    "nbnh = df[(df['race']=='NBNH') & (df['education'] > 12)]\n",
    "group_1 = nbnh[['education','sex','CASEID']].groupby(['sex','education']).CASEID.nunique()\n",
    "group_2 = group_1.groupby(level=0).apply(lambda x: 100 * x / float(x.sum()))\n",
    "\n",
    "group_2.unstack().plot(kind='bar',figsize=(12,6))"
   ]
  },
  {
   "cell_type": "markdown",
   "metadata": {},
   "source": [
    "There is a slightly higher proportion of females getting college and associates degrees.\n",
    "\n",
    "Here is the plot for Blacks."
   ]
  },
  {
   "cell_type": "code",
   "execution_count": 69,
   "metadata": {},
   "outputs": [
    {
     "data": {
      "text/plain": [
       "<matplotlib.axes._subplots.AxesSubplot at 0x12826a58>"
      ]
     },
     "execution_count": 69,
     "metadata": {},
     "output_type": "execute_result"
    },
    {
     "data": {
      "image/png": "[encoded data removed]",
      "text/plain": [
       "<matplotlib.figure.Figure at 0x1279dd30>"
      ]
     },
     "metadata": {},
     "output_type": "display_data"
    }
   ],
   "source": [
    "black = df[(df['race']=='black') & (df['education'] > 12)]\n",
    "group_1 = black[['education','sex','CASEID']].groupby(['sex','education']).CASEID.nunique()\n",
    "group_2 = group_1.groupby(level=0).apply(lambda x: 100 * x / float(x.sum()))\n",
    "\n",
    "group_2.unstack().plot(kind='bar',figsize=(12,6))"
   ]
  },
  {
   "cell_type": "markdown",
   "metadata": {},
   "source": [
    "There is a similar gender disparity here, which may be slightly greater than for NBNH persons at the associates level and the post-graduate level.\n",
    "\n",
    "Now plot the data for Hispanics."
   ]
  },
  {
   "cell_type": "code",
   "execution_count": 68,
   "metadata": {},
   "outputs": [
    {
     "data": {
      "text/plain": [
       "<matplotlib.axes._subplots.AxesSubplot at 0x124b4668>"
      ]
     },
     "execution_count": 68,
     "metadata": {},
     "output_type": "execute_result"
    },
    {
     "data": {
      "image/png": "[encoded data removed]",
      "text/plain": [
       "<matplotlib.figure.Figure at 0x1256e128>"
      ]
     },
     "metadata": {},
     "output_type": "display_data"
    }
   ],
   "source": [
    "hisp = df[(df['race']=='hispanic') & (df['education'] > 12)]\n",
    "group_1 = hisp[['education','sex','CASEID']].groupby(['sex','education']).CASEID.nunique()\n",
    "group_2 = group_1.groupby(level=0).apply(lambda x: 100 * x / float(x.sum()))\n",
    "\n",
    "group_2.unstack().plot(kind='bar',figsize=(12,6))"
   ]
  },
  {
   "cell_type": "markdown",
   "metadata": {},
   "source": [
    "We have similar features here; perhaps less pronounced than in Black persons. "
   ]
  },
  {
   "cell_type": "markdown",
   "metadata": {},
   "source": [
    "## Grouped analysis of summary statistics \n",
    "\n",
    "Exploratory data analysis involves inspection of numeric measures as well as visualization. Analysis of statistical significance of some of the disparities illustrated above requires statistical tests you will learn later. However, we can compute some summary statistics of years of education for groups of individuals. As the summary statistic we use the mean. \n"
   ]
  },
  {
   "cell_type": "markdown",
   "metadata": {},
   "source": [
    "### Mean years of education by gender\n",
    "\n",
    "These are the means without consideration of race."
   ]
  },
  {
   "cell_type": "code",
   "execution_count": 83,
   "metadata": {},
   "outputs": [
    {
     "data": {
      "text/plain": [
       "sex\n",
       "female    13.395025\n",
       "male      13.078258\n",
       "Name: education, dtype: float64"
      ]
     },
     "execution_count": 83,
     "metadata": {},
     "output_type": "execute_result"
    }
   ],
   "source": [
    "df.groupby('sex').education.mean()"
   ]
  },
  {
   "cell_type": "markdown",
   "metadata": {},
   "source": [
    "There is a slight increase here. \n",
    "\n",
    "### Mean years of education by race"
   ]
  },
  {
   "cell_type": "code",
   "execution_count": 84,
   "metadata": {},
   "outputs": [
    {
     "data": {
      "text/plain": [
       "race\n",
       "NBNH        13.768120\n",
       "black       12.940757\n",
       "hispanic    12.395107\n",
       "Name: education, dtype: float64"
      ]
     },
     "execution_count": 84,
     "metadata": {},
     "output_type": "execute_result"
    }
   ],
   "source": [
    "df.groupby('race').education.mean()"
   ]
  },
  {
   "cell_type": "markdown",
   "metadata": {},
   "source": [
    "These differences are fairly large.\n",
    "\n",
    "### Mean years of education by race and gender\n",
    "\n",
    "Here we consider both race and sex in the grouped summary."
   ]
  },
  {
   "cell_type": "code",
   "execution_count": 85,
   "metadata": {},
   "outputs": [
    {
     "data": {
      "text/plain": [
       "race      sex   \n",
       "NBNH      female    13.875561\n",
       "          male      13.653961\n",
       "black     female    13.205281\n",
       "          male      12.650794\n",
       "hispanic  female    12.488571\n",
       "          male      12.294299\n",
       "Name: education, dtype: float64"
      ]
     },
     "execution_count": 85,
     "metadata": {},
     "output_type": "execute_result"
    }
   ],
   "source": [
    "df.groupby(['race','sex']).education.mean()"
   ]
  },
  {
   "cell_type": "markdown",
   "metadata": {},
   "source": [
    "The gender difference is positive for all races, and greatest for blacks. \n",
    "\n",
    "### Proportion with more than 12 years education by race and gender\n",
    "\n",
    "First consider race alone. This is data that reflects the last group of plots."
   ]
  },
  {
   "cell_type": "code",
   "execution_count": 114,
   "metadata": {},
   "outputs": [
    {
     "name": "stdout",
     "output_type": "stream",
     "text": [
      "          CASEID\n",
      "race            \n",
      "NBNH        1799\n",
      "black        850\n",
      "hispanic     508\n",
      "          CASEID\n",
      "race            \n",
      "NBNH        3463\n",
      "black       2245\n",
      "hispanic    1349\n"
     ]
    },
    {
     "data": {
      "text/html": [
       "<div>\n",
       "<style>\n",
       "    .dataframe thead tr:only-child th {\n",
       "        text-align: right;\n",
       "    }\n",
       "\n",
       "    .dataframe thead th {\n",
       "        text-align: left;\n",
       "    }\n",
       "\n",
       "    .dataframe tbody tr th {\n",
       "        vertical-align: top;\n",
       "    }\n",
       "</style>\n",
       "<table border=\"1\" class=\"dataframe\">\n",
       "  <thead>\n",
       "    <tr style=\"text-align: right;\">\n",
       "      <th></th>\n",
       "      <th>CASEID</th>\n",
       "    </tr>\n",
       "    <tr>\n",
       "      <th>race</th>\n",
       "      <th></th>\n",
       "    </tr>\n",
       "  </thead>\n",
       "  <tbody>\n",
       "    <tr>\n",
       "      <th>NBNH</th>\n",
       "      <td>0.519492</td>\n",
       "    </tr>\n",
       "    <tr>\n",
       "      <th>black</th>\n",
       "      <td>0.378619</td>\n",
       "    </tr>\n",
       "    <tr>\n",
       "      <th>hispanic</th>\n",
       "      <td>0.376575</td>\n",
       "    </tr>\n",
       "  </tbody>\n",
       "</table>\n",
       "</div>"
      ],
      "text/plain": [
       "            CASEID\n",
       "race              \n",
       "NBNH      0.519492\n",
       "black     0.378619\n",
       "hispanic  0.376575"
      ]
     },
     "execution_count": 114,
     "metadata": {},
     "output_type": "execute_result"
    }
   ],
   "source": [
    "group_1 = df[df['education']>12].groupby('race').agg({'CASEID':'nunique'})\n",
    "group_2 = df.groupby('race').agg({'CASEID':'nunique'})\n",
    "\n",
    "print(group_1)\n",
    "print(group_2)\n",
    "\n",
    "group_1 / group_2"
   ]
  },
  {
   "cell_type": "markdown",
   "metadata": {},
   "source": [
    "\n",
    "Now analyze race and sex together."
   ]
  },
  {
   "cell_type": "code",
   "execution_count": 116,
   "metadata": {},
   "outputs": [
    {
     "name": "stdout",
     "output_type": "stream",
     "text": [
      "                 CASEID\n",
      "race     sex           \n",
      "NBNH     female     981\n",
      "         male       818\n",
      "black    female     507\n",
      "         male       343\n",
      "hispanic female     286\n",
      "         male       222\n",
      "                 CASEID\n",
      "race     sex           \n",
      "NBNH     female    1784\n",
      "         male      1679\n",
      "black    female    1174\n",
      "         male      1071\n",
      "hispanic female     700\n",
      "         male       649\n"
     ]
    },
    {
     "data": {
      "text/html": [
       "<div>\n",
       "<style>\n",
       "    .dataframe thead tr:only-child th {\n",
       "        text-align: right;\n",
       "    }\n",
       "\n",
       "    .dataframe thead th {\n",
       "        text-align: left;\n",
       "    }\n",
       "\n",
       "    .dataframe tbody tr th {\n",
       "        vertical-align: top;\n",
       "    }\n",
       "</style>\n",
       "<table border=\"1\" class=\"dataframe\">\n",
       "  <thead>\n",
       "    <tr style=\"text-align: right;\">\n",
       "      <th></th>\n",
       "      <th></th>\n",
       "      <th>CASEID</th>\n",
       "    </tr>\n",
       "    <tr>\n",
       "      <th>race</th>\n",
       "      <th>sex</th>\n",
       "      <th></th>\n",
       "    </tr>\n",
       "  </thead>\n",
       "  <tbody>\n",
       "    <tr>\n",
       "      <th rowspan=\"2\" valign=\"top\">NBNH</th>\n",
       "      <th>female</th>\n",
       "      <td>0.549888</td>\n",
       "    </tr>\n",
       "    <tr>\n",
       "      <th>male</th>\n",
       "      <td>0.487195</td>\n",
       "    </tr>\n",
       "    <tr>\n",
       "      <th rowspan=\"2\" valign=\"top\">black</th>\n",
       "      <th>female</th>\n",
       "      <td>0.431857</td>\n",
       "    </tr>\n",
       "    <tr>\n",
       "      <th>male</th>\n",
       "      <td>0.320261</td>\n",
       "    </tr>\n",
       "    <tr>\n",
       "      <th rowspan=\"2\" valign=\"top\">hispanic</th>\n",
       "      <th>female</th>\n",
       "      <td>0.408571</td>\n",
       "    </tr>\n",
       "    <tr>\n",
       "      <th>male</th>\n",
       "      <td>0.342065</td>\n",
       "    </tr>\n",
       "  </tbody>\n",
       "</table>\n",
       "</div>"
      ],
      "text/plain": [
       "                   CASEID\n",
       "race     sex             \n",
       "NBNH     female  0.549888\n",
       "         male    0.487195\n",
       "black    female  0.431857\n",
       "         male    0.320261\n",
       "hispanic female  0.408571\n",
       "         male    0.342065"
      ]
     },
     "execution_count": 116,
     "metadata": {},
     "output_type": "execute_result"
    }
   ],
   "source": [
    "group_1 = df[df['education']>12].groupby(['race','sex']).agg({'CASEID':'nunique'})\n",
    "group_2 = df.groupby(['race','sex']).agg({'CASEID':'nunique'})\n",
    "\n",
    "print(group_1)\n",
    "print(group_2)\n",
    "\n",
    "group_1 / group_2"
   ]
  },
  {
   "cell_type": "markdown",
   "metadata": {},
   "source": [
    "Among NBNH and Hispanics, about 6% more females than males have education over 12 years. For blacks the difference in percentage is 11%. "
   ]
  },
  {
   "cell_type": "code",
   "execution_count": null,
   "metadata": {
    "collapsed": true
   },
   "outputs": [],
   "source": []
  },
  {
   "cell_type": "markdown",
   "metadata": {},
   "source": [
    "\n",
    "## Hypotheses for further analysis\n",
    "\n",
    "Based on the plots and the grouped summary analyses we state the following hypotheses.\n",
    "\n",
    "1. The mean years of education is greater for females than males;\n",
    "2. The mean years of education shows racial disparity, with NBNH persons having the highest number, followed by Blacks, followed by Hispanics;\n",
    "3. The proportion of persons having education beyond 12 years shows a high degree of racial disparity, with much greater proportion of NBNH persons having such education and Blacks and Hispanics having comparable proportions at a much lower level. \n",
    "4. The proportion of persons having education beyond 12 years shows gender disparity that depends on race. The difference in proportion of females compared to males appears to be significantly greater in Blacks than NBNH and Hispanic races. \n",
    "\n",
    "Testing the statistical significance of these hypotheses requires statistical analyses to be learned later.\n",
    "\n",
    "\n",
    "\n"
   ]
  },
  {
   "cell_type": "code",
   "execution_count": null,
   "metadata": {
    "collapsed": true
   },
   "outputs": [],
   "source": []
  }
 ],
 "metadata": {
  "kernelspec": {
   "display_name": "Python 3",
   "language": "python",
   "name": "python3"
  },
  "language_info": {
   "codemirror_mode": {
    "name": "ipython",
    "version": 3
   },
   "file_extension": ".py",
   "mimetype": "text/x-python",
   "name": "python",
   "nbconvert_exporter": "python",
   "pygments_lexer": "ipython3",
   "version": "3.6.2"
  }
 },
 "nbformat": 4,
 "nbformat_minor": 2
}
